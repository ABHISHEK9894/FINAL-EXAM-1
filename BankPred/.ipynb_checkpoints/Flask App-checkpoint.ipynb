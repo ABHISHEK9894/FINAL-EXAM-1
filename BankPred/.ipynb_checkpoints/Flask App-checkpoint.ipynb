{
 "cells": [
  {
   "cell_type": "code",
   "execution_count": null,
   "id": "51f43fa5",
   "metadata": {},
   "outputs": [],
   "source": [
    "from flask import Flask,render_template, request\n",
    "import tensorflow as tf\n",
    "from keras.utils import img_to_array\n",
    "import numpy as np\n",
    "import cv2\n",
    "import os\n",
    "from keras.models import load_model\n",
    "\n",
    "\n",
    "app = Flask(__name__)\n",
    "model = load_model(r\"C:\\Users\\Abhishek\\Desktop\\Practice Python\\CIS 325\\Final Exam\\Saved Model\\saved_model\")\n",
    "classes = ['Male','Female']\n",
    "\n",
    "@app.route('/', methods=['GET'])\n",
    "def churn_prediction():\n",
    "    return render_template('index.html')\n",
    "\n",
    "@app.route('/', methods=['POST'])\n",
    "def predict():\n",
    "    imagefile = request.files['imagefile']\n",
    "    image_path = \"./images/\" + imagefile.filename\n",
    "    imagefile.save(image_path)\n",
    "\n",
    "    image = cv2.imread(image_path)\n",
    "    image = cv2.resize(image, (96,96))\n",
    "    image = image.astype(\"float\") / 255.0\n",
    "    image = img_to_array(image)\n",
    "    image = np.expand_dims(image, axis=0)\n",
    "    \n",
    "    yhat =  model.predict(image)\n",
    "    ypred = np.argmax(yhat)\n",
    "\n",
    "    return render_template('index.html', prediction=ypred)\n",
    "\n",
    "if __name__=='__main__':\n",
    "    app.run(host=\"0.0.0.0\",debug=True)"
   ]
  }
 ],
 "metadata": {
  "kernelspec": {
   "display_name": "Python 3 (ipykernel)",
   "language": "python",
   "name": "python3"
  },
  "language_info": {
   "codemirror_mode": {
    "name": "ipython",
    "version": 3
   },
   "file_extension": ".py",
   "mimetype": "text/x-python",
   "name": "python",
   "nbconvert_exporter": "python",
   "pygments_lexer": "ipython3",
   "version": "3.9.12"
  }
 },
 "nbformat": 4,
 "nbformat_minor": 5
}
